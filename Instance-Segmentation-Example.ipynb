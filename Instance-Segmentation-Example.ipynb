{
 "cells": [
  {
   "cell_type": "markdown",
   "metadata": {},
   "source": [
    "## Instance Segmentation Using Habitat-Sim and Mask-R-CNN\n",
    "\n",
    "author: Michael Piseno (mpiseno@fb.com)\n",
    "\n",
    "This notebook will demonstrate how to set up an efficient datapipline for the purpose of instance segmentation using PyTorch, Mask-R-CNN, and Habitat-Sim as a data generator.\n",
    "\n",
    "Other resources:\n",
    "* [Mask-R-CNN paper](https://arxiv.org/pdf/1703.06870.pdf)\n",
    "* [PyTorch instance segmentation tutorial](https://pytorch.org/tutorials/intermediate/torchvision_tutorial.html)"
   ]
  },
  {
   "cell_type": "code",
   "execution_count": 1,
   "metadata": {},
   "outputs": [],
   "source": [
    "import os\n",
    "import time\n",
    "from PIL import Image\n",
    "\n",
    "import numpy as np\n",
    "import matplotlib.pyplot as plt\n",
    "import torch\n",
    "import torch.nn as nn\n",
    "import torchvision\n",
    "import torchvision.transforms as T\n",
    "\n",
    "from torchvision.models.detection.faster_rcnn import FastRCNNPredictor\n",
    "from torchvision.models.detection.mask_rcnn import MaskRCNNPredictor\n",
    "from torch.utils.data import Dataset\n",
    "\n",
    "from habitat_sim.utils.data.dataextractor import ImageExtractor"
   ]
  },
  {
   "cell_type": "markdown",
   "metadata": {},
   "source": [
    "### Data preparation and proprocessing\n",
    "\n",
    "Below we will define the data extraction and preprocessing steps. Habitat-Sim's image data extraction API will be used to gather images from within the simulator for use inside a PyTorch Dataset subclass, which is subsequently fed into a PyTorch dataloader."
   ]
  },
  {
   "cell_type": "code",
   "execution_count": 2,
   "metadata": {},
   "outputs": [
    {
     "name": "stderr",
     "output_type": "stream",
     "text": [
      "I0205 18:06:46.267751 69883 simulator.py:131] Loaded navmesh /datasets01/mp3d/073118/v1/habitat/17DRP5sb8fy/17DRP5sb8fy.navmesh\n"
     ]
    },
    {
     "name": "stdout",
     "output_type": "stream",
     "text": [
      "sim_cfg.physics_config_file = ./data/default.phys_scene_config.json\n"
     ]
    }
   ],
   "source": [
    "def collate_fn(batch):\n",
    "    return tuple(zip(*batch))\n",
    "    \n",
    "    \n",
    "class HabitatDataset(Dataset):\n",
    "    def __init__(self, extractor, transform=None):\n",
    "        self.extractor = extractor\n",
    "        self.transform = transform\n",
    "        \n",
    "    def __len__(self):\n",
    "        return len(self.extractor)\n",
    "    \n",
    "    def __getitem__(self, idx):\n",
    "        sample = self.extractor[idx]\n",
    "        img, mask = sample[\"rgb\"][:, :, :3], sample[\"semantic\"]\n",
    "        H, W = mask.shape\n",
    "        \n",
    "        obj_ids = np.unique(mask)\n",
    "        masks = np.array([mask == obj_id for obj_id in obj_ids])\n",
    "        \n",
    "        # get bounding box coordinates for each mask\n",
    "        num_objs = len(obj_ids)\n",
    "        boxes = []\n",
    "        for i in range(num_objs):\n",
    "            pos = np.where(masks[i])\n",
    "            xmin = np.min(pos[1])\n",
    "            xmax = np.max(pos[1])\n",
    "            ymin = np.min(pos[0])\n",
    "            ymax = np.max(pos[0])\n",
    "            \n",
    "            # Avoid zero area boxes\n",
    "            if xmin == xmax:\n",
    "                xmin = max(0, xmin - 1)\n",
    "                xmax = min(W, xmax + 1)\n",
    "            if ymin == ymax:\n",
    "                ymin = max(0, ymin - 1)\n",
    "                ymax = min(H, ymax + 1)\n",
    "            \n",
    "            boxes.append([xmin, ymin, xmax, ymax])\n",
    "\n",
    "        # convert everything into a torch.Tensor\n",
    "        boxes = torch.as_tensor(boxes, dtype=torch.float32)\n",
    "        # there is only one class\n",
    "        labels = torch.ones((num_objs,), dtype=torch.int64)\n",
    "        masks = torch.as_tensor(masks, dtype=torch.uint8)\n",
    "        image_id = torch.tensor([idx])\n",
    "        area = (boxes[:, 3] - boxes[:, 1]) * (boxes[:, 2] - boxes[:, 0])\n",
    "        # suppose all instances are not crowd\n",
    "        iscrowd = torch.zeros((num_objs,), dtype=torch.int64)\n",
    "\n",
    "        target = {}\n",
    "        target[\"boxes\"] = boxes\n",
    "        target[\"labels\"] = labels\n",
    "        target[\"masks\"] = masks\n",
    "        target[\"image_id\"] = image_id\n",
    "        target[\"area\"] = area\n",
    "        target[\"iscrowd\"] = iscrowd\n",
    "        \n",
    "        if self.transform:\n",
    "            img = self.transform(img)\n",
    "        \n",
    "        return img, target\n",
    "    \n",
    "\n",
    "try:\n",
    "    extractor.close()\n",
    "except:\n",
    "    pass\n",
    "\n",
    "  \n",
    "scene_filepath = \"/datasets01/mp3d/073118/v1/habitat/17DRP5sb8fy/17DRP5sb8fy.glb\"\n",
    "#scene_filepath = \"../../data/scene_datasets/habitat-test-scenes/skokloster-castle.glb\" # Replace with your filepath\n",
    "extractor = ImageExtractor(scene_filepath, output=[\"rgb\", \"semantic\"])\n"
   ]
  },
  {
   "cell_type": "markdown",
   "metadata": {},
   "source": [
    "First we instantiate an ImageExtractor from Habitat-Sim. This requires that we previde a the filepath to a scene from which we will extract images. Optionally, we can specify the type of output we would like from the extractor. The default is just RGB images.\n",
    "\n",
    "```python\n",
    "scene_filepath = \"../../data/scene_datasets/habitat-test-scenes/skokloster-castle.glb\"\n",
    "extractor = ImageExtractor(scene_filepath, output=[\"rgb\", \"semantic\"])\n",
    "```\n",
    "\n",
    "We then create a custom class that subclasses PyTorch's dataset and override the __len__ and __getitem__ methods. Mask-R-CNN requires that we provide the image, bounding boxes, semantic masks, and class labels for each example, so we have implemented functionality for that in the __getitem__ method."
   ]
  },
  {
   "cell_type": "code",
   "execution_count": 3,
   "metadata": {},
   "outputs": [
    {
     "data": {
      "image/png": "[encoded data removed]",
      "text/plain": [
       "<Figure size 432x288 with 1 Axes>"
      ]
     },
     "metadata": {
      "needs_background": "light"
     },
     "output_type": "display_data"
    }
   ],
   "source": [
    "extractor.pose_extractor._show_topdown_view(show_valid_points=True)"
   ]
  },
  {
   "cell_type": "code",
   "execution_count": 4,
   "metadata": {},
   "outputs": [],
   "source": [
    "# Specify which transforms to apply to the data in preprocessing\n",
    "transform = T.Compose([\n",
    "    T.ToTensor()\n",
    "])\n",
    "\n",
    "dataset_train = HabitatDataset(extractor, transform=transform)\n",
    "dataset_test = HabitatDataset(extractor, transform=transform)\n",
    "\n",
    "dataloader_train = torch.utils.data.DataLoader(dataset_train, batch_size=2, shuffle=False,\n",
    "                                          collate_fn=collate_fn)\n",
    "dataloader_test = torch.utils.data.DataLoader(dataset_test, batch_size=2, shuffle=False,\n",
    "                                          collate_fn=collate_fn)"
   ]
  },
  {
   "cell_type": "code",
   "execution_count": 6,
   "metadata": {},
   "outputs": [
    {
     "data": {
      "image/png": "[encoded data removed]",
      "text/plain": [
       "<Figure size 432x288 with 1 Axes>"
      ]
     },
     "metadata": {
      "needs_background": "light"
     },
     "output_type": "display_data"
    }
   ],
   "source": [
    "img, target = dataset_train[1]\n",
    "\n",
    "img = img.permute(1, 2, 0).numpy()\n",
    "mask = target['masks'][7].numpy()\n",
    "\n",
    "plt.imshow(mask)\n",
    "plt.show()"
   ]
  },
  {
   "cell_type": "markdown",
   "metadata": {},
   "source": [
    "### Model and Training Setup"
   ]
  },
  {
   "cell_type": "code",
   "execution_count": 7,
   "metadata": {},
   "outputs": [],
   "source": [
    "# Credit: https://pytorch.org/tutorials/intermediate/torchvision_tutorial.html\n",
    "def build_model(num_classes):\n",
    "    # load an instance segmentation model pre-trained pre-trained on COCO\n",
    "    model = torchvision.models.detection.maskrcnn_resnet50_fpn(pretrained=True)\n",
    "\n",
    "    # get number of input features for the classifier\n",
    "    in_features = model.roi_heads.box_predictor.cls_score.in_features\n",
    "    # replace the pre-trained head with a new one\n",
    "    model.roi_heads.box_predictor = FastRCNNPredictor(in_features, num_classes)\n",
    "\n",
    "    # now get the number of input features for the mask classifier\n",
    "    in_features_mask = model.roi_heads.mask_predictor.conv5_mask.in_channels\n",
    "    hidden_layer = 256\n",
    "    # and replace the mask predictor with a new one\n",
    "    model.roi_heads.mask_predictor = MaskRCNNPredictor(in_features_mask,\n",
    "                                                       hidden_layer,\n",
    "                                                       num_classes)\n",
    "\n",
    "    return model\n",
    "\n",
    "\n",
    "num_epochs = 100\n",
    "num_classes = 40 # 40 object categories in matterport3d paper https://arxiv.org/pdf/1709.06158.pdf\n",
    "model_weights = \"maskrcnn-weights\"\n",
    "load_weights = True\n",
    "\n",
    "model = build_model(num_classes)\n",
    "device = torch.device('cuda') if torch.cuda.is_available() else torch.device('cpu')\n",
    "model.to(device)\n",
    "\n",
    "params = [p for p in model.parameters() if p.requires_grad]\n",
    "optimizer = torch.optim.SGD(params, lr=0.005, momentum=0.9, weight_decay=0.0005)\n",
    "lr_scheduler = torch.optim.lr_scheduler.StepLR(optimizer, step_size=3, gamma=0.1)\n"
   ]
  },
  {
   "cell_type": "markdown",
   "metadata": {},
   "source": [
    "### Training and Evaluation"
   ]
  },
  {
   "cell_type": "code",
   "execution_count": null,
   "metadata": {},
   "outputs": [
    {
     "name": "stdout",
     "output_type": "stream",
     "text": [
      "Epoch: [0]  [0/8]  eta: 0:01:15  lr: 0.000719  loss: 11.2109 (11.2109)  loss_classifier: 3.7597 (3.7597)  loss_box_reg: 0.6675 (0.6675)  loss_mask: 0.8007 (0.8007)  loss_objectness: 5.2780 (5.2780)  loss_rpn_box_reg: 0.7050 (0.7050)  time: 9.4544  data: 0.0737\n",
      "Epoch: [0]  [7/8]  eta: 0:00:07  lr: 0.005000  loss: 4.5586 (6.3439)  loss_classifier: 1.8581 (2.2954)  loss_box_reg: 0.4622 (0.4756)  loss_mask: 0.7215 (0.7362)  loss_objectness: 0.8799 (2.0289)  loss_rpn_box_reg: 0.7050 (0.8078)  time: 7.9081  data: 0.1018\n",
      "Epoch: [0] Total time: 0:01:03 (7.9089 s / it)\n",
      "Epoch: [1]  [0/8]  eta: 0:00:59  lr: 0.005000  loss: 3.0931 (3.0931)  loss_classifier: 0.6225 (0.6225)  loss_box_reg: 0.3848 (0.3848)  loss_mask: 0.6495 (0.6495)  loss_objectness: 0.7298 (0.7298)  loss_rpn_box_reg: 0.7065 (0.7065)  time: 7.4127  data: 0.1106\n",
      "Epoch: [1]  [7/8]  eta: 0:00:07  lr: 0.005000  loss: 2.9757 (2.8913)  loss_classifier: 0.5009 (0.5195)  loss_box_reg: 0.3595 (0.3850)  loss_mask: 0.6317 (0.6323)  loss_objectness: 0.5124 (0.5299)  loss_rpn_box_reg: 0.7277 (0.8245)  time: 7.2064  data: 0.1002\n",
      "Epoch: [1] Total time: 0:00:57 (7.2068 s / it)\n",
      "Epoch: [2]  [0/8]  eta: 0:01:00  lr: 0.005000  loss: 2.5302 (2.5302)  loss_classifier: 0.3520 (0.3520)  loss_box_reg: 0.4336 (0.4336)  loss_mask: 0.5827 (0.5827)  loss_objectness: 0.4572 (0.4572)  loss_rpn_box_reg: 0.7047 (0.7047)  time: 7.5906  data: 0.0965\n",
      "Epoch: [2]  [7/8]  eta: 0:00:07  lr: 0.005000  loss: 2.5175 (2.5258)  loss_classifier: 0.3401 (0.3326)  loss_box_reg: 0.4102 (0.4058)  loss_mask: 0.5775 (0.5770)  loss_objectness: 0.3757 (0.4033)  loss_rpn_box_reg: 0.7309 (0.8071)  time: 7.2031  data: 0.0977\n",
      "Epoch: [2] Total time: 0:00:57 (7.2035 s / it)\n",
      "Epoch: [3]  [0/8]  eta: 0:01:05  lr: 0.000500  loss: 2.3696 (2.3696)  loss_classifier: 0.3421 (0.3421)  loss_box_reg: 0.5141 (0.5141)  loss_mask: 0.5740 (0.5740)  loss_objectness: 0.2845 (0.2845)  loss_rpn_box_reg: 0.6550 (0.6550)  time: 8.1886  data: 0.0974\n",
      "Epoch: [3]  [7/8]  eta: 0:00:07  lr: 0.000500  loss: 2.3696 (2.3667)  loss_classifier: 0.3352 (0.3432)  loss_box_reg: 0.4189 (0.4174)  loss_mask: 0.5592 (0.5578)  loss_objectness: 0.2986 (0.3043)  loss_rpn_box_reg: 0.6550 (0.7439)  time: 7.2801  data: 0.1035\n",
      "Epoch: [3] Total time: 0:00:58 (7.2806 s / it)\n",
      "Epoch: [4]  [0/8]  eta: 0:01:05  lr: 0.000500  loss: 2.3567 (2.3567)  loss_classifier: 0.3321 (0.3321)  loss_box_reg: 0.5024 (0.5024)  loss_mask: 0.5622 (0.5622)  loss_objectness: 0.2746 (0.2746)  loss_rpn_box_reg: 0.6854 (0.6854)  time: 8.2428  data: 0.1086\n",
      "Epoch: [4]  [7/8]  eta: 0:00:07  lr: 0.000500  loss: 2.2183 (2.2749)  loss_classifier: 0.3193 (0.3225)  loss_box_reg: 0.4123 (0.4108)  loss_mask: 0.5473 (0.5419)  loss_objectness: 0.2746 (0.2877)  loss_rpn_box_reg: 0.6854 (0.7120)  time: 7.5279  data: 0.1028\n",
      "Epoch: [4] Total time: 0:01:00 (7.5283 s / it)\n",
      "Epoch: [5]  [0/8]  eta: 0:01:06  lr: 0.000500  loss: 2.3096 (2.3096)  loss_classifier: 0.3195 (0.3195)  loss_box_reg: 0.4701 (0.4701)  loss_mask: 0.5603 (0.5603)  loss_objectness: 0.2857 (0.2857)  loss_rpn_box_reg: 0.6741 (0.6741)  time: 8.3424  data: 0.1073\n",
      "Epoch: [5]  [7/8]  eta: 0:00:07  lr: 0.000500  loss: 2.1972 (2.2142)  loss_classifier: 0.2975 (0.3095)  loss_box_reg: 0.4202 (0.4065)  loss_mask: 0.5256 (0.5319)  loss_objectness: 0.2498 (0.2704)  loss_rpn_box_reg: 0.6741 (0.6959)  time: 7.3840  data: 0.0981\n",
      "Epoch: [5] Total time: 0:00:59 (7.3844 s / it)\n",
      "Epoch: [6]  [0/8]  eta: 0:01:04  lr: 0.000050  loss: 2.2732 (2.2732)  loss_classifier: 0.3266 (0.3266)  loss_box_reg: 0.4933 (0.4933)  loss_mask: 0.5618 (0.5618)  loss_objectness: 0.2569 (0.2569)  loss_rpn_box_reg: 0.6346 (0.6346)  time: 8.1166  data: 0.0973\n",
      "Epoch: [6]  [7/8]  eta: 0:00:07  lr: 0.000050  loss: 2.1845 (2.2038)  loss_classifier: 0.2950 (0.3070)  loss_box_reg: 0.4346 (0.4099)  loss_mask: 0.5203 (0.5302)  loss_objectness: 0.2390 (0.2628)  loss_rpn_box_reg: 0.6346 (0.6939)  time: 7.4786  data: 0.0965\n",
      "Epoch: [6] Total time: 0:00:59 (7.4790 s / it)\n",
      "Epoch: [7]  [0/8]  eta: 0:01:03  lr: 0.000050  loss: 2.3240 (2.3240)  loss_classifier: 0.3168 (0.3168)  loss_box_reg: 0.4826 (0.4826)  loss_mask: 0.5612 (0.5612)  loss_objectness: 0.2509 (0.2509)  loss_rpn_box_reg: 0.7125 (0.7125)  time: 7.9078  data: 0.0932\n"
     ]
    }
   ],
   "source": [
    "# Example of training\n",
    "from examples.instance_segmentation.engine import train_one_epoch\n",
    "import examples.instance_segmentation.utils\n",
    "\n",
    "\n",
    "if load_weights:\n",
    "    # Load model weights\n",
    "    pass\n",
    "\n",
    "# We have to explicitly set the extractor mode because there can only be one instance of an extractor at a time,\n",
    "# so the dataset_train and dataset_test must share the same extractor\n",
    "extractor.set_mode('train')\n",
    "\n",
    "for epoch in range(num_epochs):\n",
    "    train_one_epoch(model, optimizer, dataloader_train, device, epoch, print_freq=10)\n",
    "    lr_scheduler.step()\n",
    "    \n",
    "    if epoch % 100 == 0:\n",
    "        # Save model weights\n",
    "        pass\n",
    "\n",
    "# import math\n",
    "\n",
    "# for i, batch in enumerate(data_loader):\n",
    "#     images, targets = batch\n",
    "#     images = list(image.to(device) for image in images)\n",
    "#     targets = [{k: v.to(device) for k, v in t.items()} for t in targets]\n",
    "    \n",
    "#     loss_dict = model(images, targets)\n",
    "#     losses = sum(loss for loss in loss_dict.values())\n",
    "#     print(loss_dict)\n",
    "#     print(str(losses.item()) + \"\\n\")\n",
    "    \n",
    "#     if not math.isfinite(losses):\n",
    "#         print(f'not finite loss: {i}')\n",
    "#         break\n",
    "    \n",
    "    "
   ]
  },
  {
   "cell_type": "code",
   "execution_count": null,
   "metadata": {},
   "outputs": [],
   "source": []
  }
 ],
 "metadata": {
  "kernelspec": {
   "display_name": "Python 3",
   "language": "python",
   "name": "python3"
  },
  "language_info": {
   "codemirror_mode": {
    "name": "ipython",
    "version": 3
   },
   "file_extension": ".py",
   "mimetype": "text/x-python",
   "name": "python",
   "nbconvert_exporter": "python",
   "pygments_lexer": "ipython3",
   "version": "3.6.10"
  }
 },
 "nbformat": 4,
 "nbformat_minor": 4
}
