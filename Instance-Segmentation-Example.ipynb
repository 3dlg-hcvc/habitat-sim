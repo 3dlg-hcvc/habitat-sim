{
 "cells": [
  {
   "cell_type": "code",
   "execution_count": 1,
   "metadata": {},
   "outputs": [],
   "source": [
    "import os\n",
    "from PIL import Image\n",
    "\n",
    "import numpy as np\n",
    "import matplotlib.pyplot as plt\n",
    "import torch\n",
    "import torch.nn as nn\n",
    "import torchvision\n",
    "import torchvision.transforms as T\n",
    "\n",
    "from torchvision.models.detection.faster_rcnn import FastRCNNPredictor\n",
    "from torchvision.models.detection.mask_rcnn import MaskRCNNPredictor\n",
    "from torch.utils.data import Dataset\n",
    "\n",
    "from habitat_sim.utils.data.dataextractor import ImageExtractor"
   ]
  },
  {
   "cell_type": "code",
   "execution_count": 2,
   "metadata": {},
   "outputs": [],
   "source": [
    "NUM_CLASSES = 10\n",
    "IMG_HEIGHT = IMG_WIDTH = 32\n",
    "\n",
    "# Credit: https://pytorch.org/tutorials/intermediate/torchvision_tutorial.html\n",
    "def get_model_instance_segmentation(num_classes):\n",
    "    # load an instance segmentation model pre-trained pre-trained on COCO\n",
    "    model = torchvision.models.detection.maskrcnn_resnet50_fpn(pretrained=True)\n",
    "\n",
    "    # get number of input features for the classifier\n",
    "    in_features = model.roi_heads.box_predictor.cls_score.in_features\n",
    "    # replace the pre-trained head with a new one\n",
    "    model.roi_heads.box_predictor = FastRCNNPredictor(in_features, num_classes)\n",
    "\n",
    "    # now get the number of input features for the mask classifier\n",
    "    in_features_mask = model.roi_heads.mask_predictor.conv5_mask.in_channels\n",
    "    hidden_layer = 256\n",
    "    # and replace the mask predictor with a new one\n",
    "    model.roi_heads.mask_predictor = MaskRCNNPredictor(in_features_mask,\n",
    "                                                       hidden_layer,\n",
    "                                                       num_classes)\n",
    "\n",
    "    return model\n",
    "\n",
    "\n",
    "def collate_fn(batch):\n",
    "    return tuple(zip(*batch))\n",
    "\n",
    "\n",
    "class MyDataset(Dataset):\n",
    "    def __init__(self, extractor, root, transform=None):\n",
    "        self.extractor = extractor\n",
    "        self.root = root\n",
    "        self.transform = transform\n",
    "        self.imgs = list(sorted(os.listdir(os.path.join(root, \"sample_images\"))))\n",
    "        self.masks = list(sorted(os.listdir(os.path.join(root, \"sample_masks\"))))\n",
    "        \n",
    "    def __len__(self):\n",
    "        return len(self.imgs)\n",
    "    \n",
    "    def __getitem__(self, idx):\n",
    "        # load images ad masks\n",
    "        img_path = os.path.join(self.root, \"sample_images\", self.imgs[idx])\n",
    "        mask_path = os.path.join(self.root, \"sample_masks\", self.masks[idx])\n",
    "        img = Image.open(img_path).convert(\"RGB\")\n",
    "        \n",
    "        mask = Image.open(mask_path)\n",
    "        # convert the PIL Image into a numpy array\n",
    "        mask = np.array(mask)\n",
    "        mask = mask[:, :, 0]\n",
    "        \n",
    "        # instances are encoded as different colors\n",
    "        obj_ids = np.unique(mask)\n",
    "        # first id is the background, so remove it\n",
    "        obj_ids = obj_ids[1:]\n",
    "        # split the color-encoded mask into a set\n",
    "        # of binary masks\n",
    "        #masks = mask == obj_ids[:, None, None]\n",
    "        \n",
    "        masks = np.array([mask == obj_id for obj_id in obj_ids])\n",
    "\n",
    "        # get bounding box coordinates for each mask\n",
    "        num_objs = len(obj_ids)\n",
    "        boxes = []\n",
    "        for i in range(num_objs):\n",
    "            pos = np.where(masks[i])\n",
    "            xmin = np.min(pos[1])\n",
    "            xmax = np.max(pos[1])\n",
    "            ymin = np.min(pos[0])\n",
    "            ymax = np.max(pos[0])\n",
    "            boxes.append([xmin, ymin, xmax, ymax])\n",
    "\n",
    "        # convert everything into a torch.Tensor\n",
    "        boxes = torch.as_tensor(boxes, dtype=torch.float32)\n",
    "        # there is only one class\n",
    "        labels = torch.ones((num_objs,), dtype=torch.int64)\n",
    "        masks = torch.as_tensor(masks, dtype=torch.uint8)\n",
    "\n",
    "        image_id = torch.tensor([idx])\n",
    "        area = (boxes[:, 3] - boxes[:, 1]) * (boxes[:, 2] - boxes[:, 0])\n",
    "        # suppose all instances are not crowd\n",
    "        iscrowd = torch.zeros((num_objs,), dtype=torch.int64)\n",
    "\n",
    "        target = {}\n",
    "        target[\"boxes\"] = boxes\n",
    "        target[\"labels\"] = labels\n",
    "        target[\"masks\"] = masks\n",
    "        target[\"image_id\"] = image_id\n",
    "        target[\"area\"] = area\n",
    "        target[\"iscrowd\"] = iscrowd\n",
    "        \n",
    "        if self.transform:\n",
    "            img = self.transform(img)\n",
    "\n",
    "        return img, target\n",
    "    \n",
    "    \n",
    "class HabitatDataset(Dataset):\n",
    "    def __init__(self, extractor):\n",
    "        self.extractor = extractor\n",
    "        \n",
    "    def __len__(self):\n",
    "        return len(self.extractor.poses)\n",
    "    \n",
    "    def __getitem__(self, idx):\n",
    "        return self.extractor[idx]\n",
    "    "
   ]
  },
  {
   "cell_type": "code",
   "execution_count": 3,
   "metadata": {},
   "outputs": [
    {
     "name": "stderr",
     "output_type": "stream",
     "text": [
      "I0204 11:21:03.826827 25504 simulator.py:131] Loaded navmesh ../../data/scene_datasets/habitat-test-scenes/skokloster-castle.navmesh\n"
     ]
    },
    {
     "name": "stdout",
     "output_type": "stream",
     "text": [
      "sim_cfg.physics_config_file = ./data/default.phys_scene_config.json\n"
     ]
    }
   ],
   "source": [
    "# Setup training environment\n",
    "N_EPOCHS = 10\n",
    "\n",
    "model = get_model_instance_segmentation(NUM_CLASSES)\n",
    "\n",
    "# transform = T.Compose([T.ToTensor()])\n",
    "# dataset = MyDataset(None, root=\"./data/sample_data/\", transform=transform)\n",
    "# data_loader = torch.utils.data.DataLoader(dataset, batch_size=2, shuffle=True, num_workers=4,\n",
    "#                                           collate_fn=collate_fn)\n",
    "# device = torch.device('cuda') if torch.cuda.is_available() else torch.device('cpu')\n",
    "# model.to(device)\n",
    "\n",
    "# params = [p for p in model.parameters() if p.requires_grad]\n",
    "# optimizer = torch.optim.SGD(params, lr=0.005, momentum=0.9, weight_decay=0.0005)\n",
    "# lr_scheduler = torch.optim.lr_scheduler.StepLR(optimizer, step_size=3, gamma=0.1)\n",
    "\n",
    "scene_filepath = \"../../data/scene_datasets/habitat-test-scenes/skokloster-castle.glb\"\n",
    "extractor = ImageExtractor(scene_filepath)"
   ]
  },
  {
   "cell_type": "code",
   "execution_count": 6,
   "metadata": {},
   "outputs": [
    {
     "data": {
      "image/png": "[encoded data removed]",
      "text/plain": [
       "<Figure size 432x288 with 1 Axes>"
      ]
     },
     "metadata": {
      "needs_background": "light"
     },
     "output_type": "display_data"
    }
   ],
   "source": [
    "dataset = HabitatDataset(extractor)\n",
    "\n"
   ]
  },
  {
   "cell_type": "code",
   "execution_count": 46,
   "metadata": {},
   "outputs": [
    {
     "name": "stdout",
     "output_type": "stream",
     "text": [
      "Epoch: [0]  [0/1]  eta: 0:00:32  lr: 0.005000  loss: 5.5464 (5.5464)  loss_classifier: 2.3515 (2.3515)  loss_box_reg: 0.1789 (0.1789)  loss_mask: 2.0460 (2.0460)  loss_objectness: 0.7072 (0.7072)  loss_rpn_box_reg: 0.2628 (0.2628)  time: 32.9171  data: 0.3392\n",
      "Epoch: [0] Total time: 0:00:32 (32.9636 s / it)\n",
      "Epoch: [1]  [0/1]  eta: 0:00:34  lr: 0.005000  loss: 2.8464 (2.8464)  loss_classifier: 1.3775 (1.3775)  loss_box_reg: 0.2144 (0.2144)  loss_mask: 0.8798 (0.8798)  loss_objectness: 0.1465 (0.1465)  loss_rpn_box_reg: 0.2282 (0.2282)  time: 34.6248  data: 0.4232\n",
      "Epoch: [1] Total time: 0:00:34 (34.8419 s / it)\n",
      "Epoch: [2]  [0/1]  eta: 0:00:35  lr: 0.005000  loss: 2.0976 (2.0976)  loss_classifier: 0.5855 (0.5855)  loss_box_reg: 0.2643 (0.2643)  loss_mask: 0.9889 (0.9889)  loss_objectness: 0.0590 (0.0590)  loss_rpn_box_reg: 0.1998 (0.1998)  time: 35.3224  data: 0.4360\n",
      "Epoch: [2] Total time: 0:00:35 (35.5724 s / it)\n",
      "Epoch: [3]  [0/1]  eta: 0:00:35  lr: 0.000500  loss: 1.8664 (1.8664)  loss_classifier: 0.4779 (0.4779)  loss_box_reg: 0.2652 (0.2652)  loss_mask: 0.9080 (0.9080)  loss_objectness: 0.0458 (0.0458)  loss_rpn_box_reg: 0.1695 (0.1695)  time: 35.1919  data: 0.4347\n",
      "Epoch: [3] Total time: 0:00:35 (35.4253 s / it)\n",
      "Epoch: [4]  [0/1]  eta: 0:00:35  lr: 0.000500  loss: 1.8332 (1.8332)  loss_classifier: 0.4666 (0.4666)  loss_box_reg: 0.2537 (0.2537)  loss_mask: 0.8807 (0.8807)  loss_objectness: 0.0652 (0.0652)  loss_rpn_box_reg: 0.1669 (0.1669)  time: 35.3935  data: 0.4217\n",
      "Epoch: [4] Total time: 0:00:35 (35.6280 s / it)\n",
      "Epoch: [5]  [0/1]  eta: 0:00:35  lr: 0.000500  loss: 1.7823 (1.7823)  loss_classifier: 0.4777 (0.4777)  loss_box_reg: 0.2601 (0.2601)  loss_mask: 0.8438 (0.8438)  loss_objectness: 0.0374 (0.0374)  loss_rpn_box_reg: 0.1633 (0.1633)  time: 35.4881  data: 0.4248\n",
      "Epoch: [5] Total time: 0:00:35 (35.7268 s / it)\n",
      "Epoch: [6]  [0/1]  eta: 0:00:35  lr: 0.000050  loss: 1.7698 (1.7698)  loss_classifier: 0.4778 (0.4778)  loss_box_reg: 0.2595 (0.2595)  loss_mask: 0.8008 (0.8008)  loss_objectness: 0.0730 (0.0730)  loss_rpn_box_reg: 0.1588 (0.1588)  time: 35.6979  data: 0.4312\n",
      "Epoch: [6] Total time: 0:00:35 (35.9371 s / it)\n",
      "Epoch: [7]  [0/1]  eta: 0:00:35  lr: 0.000050  loss: 1.7429 (1.7429)  loss_classifier: 0.4722 (0.4722)  loss_box_reg: 0.2560 (0.2560)  loss_mask: 0.7955 (0.7955)  loss_objectness: 0.0610 (0.0610)  loss_rpn_box_reg: 0.1583 (0.1583)  time: 35.2214  data: 0.4136\n",
      "Epoch: [7] Total time: 0:00:35 (35.4564 s / it)\n",
      "Epoch: [8]  [0/1]  eta: 0:00:35  lr: 0.000050  loss: 1.7258 (1.7258)  loss_classifier: 0.4762 (0.4762)  loss_box_reg: 0.2611 (0.2611)  loss_mask: 0.7883 (0.7883)  loss_objectness: 0.0424 (0.0424)  loss_rpn_box_reg: 0.1577 (0.1577)  time: 35.4884  data: 0.4283\n",
      "Epoch: [8] Total time: 0:00:35 (35.7300 s / it)\n",
      "Epoch: [9]  [0/1]  eta: 0:00:35  lr: 0.000005  loss: 1.7290 (1.7290)  loss_classifier: 0.4783 (0.4783)  loss_box_reg: 0.2605 (0.2605)  loss_mask: 0.7832 (0.7832)  loss_objectness: 0.0499 (0.0499)  loss_rpn_box_reg: 0.1571 (0.1571)  time: 35.3445  data: 0.4191\n",
      "Epoch: [9] Total time: 0:00:35 (35.5801 s / it)\n"
     ]
    }
   ],
   "source": [
    "# Example of training\n",
    "from examples.instance_segmentation.engine import train_one_epoch\n",
    "import examples.instance_segmentation.utils\n",
    "\n",
    "for epoch in range(N_EPOCHS):\n",
    "    train_one_epoch(model, optimizer, data_loader, device, epoch, print_freq=10)\n",
    "    lr_scheduler.step()\n",
    "    \n",
    "    \n",
    "# # For Training\n",
    "# images, targets = next(iter(data_loader))\n",
    "# images = list(image for image in images)\n",
    "# targets = [{k: v for k, v in t.items()} for t in targets]\n",
    "# output = model(images,targets)   # Returns losses and detections\n",
    "# # For inference\n",
    "# model.eval()\n",
    "# x = [torch.rand(3, 300, 400), torch.rand(3, 500, 400)]\n",
    "# predictions = model(x)           # Returns predictions"
   ]
  },
  {
   "cell_type": "code",
   "execution_count": null,
   "metadata": {},
   "outputs": [],
   "source": []
  }
 ],
 "metadata": {
  "kernelspec": {
   "display_name": "Python 3",
   "language": "python",
   "name": "python3"
  },
  "language_info": {
   "codemirror_mode": {
    "name": "ipython",
    "version": 3
   },
   "file_extension": ".py",
   "mimetype": "text/x-python",
   "name": "python",
   "nbconvert_exporter": "python",
   "pygments_lexer": "ipython3",
   "version": "3.6.10"
  }
 },
 "nbformat": 4,
 "nbformat_minor": 4
}
